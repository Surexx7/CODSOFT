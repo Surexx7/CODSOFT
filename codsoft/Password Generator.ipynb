{
 "cells": [
  {
   "cell_type": "markdown",
   "id": "8a0859d3",
   "metadata": {},
   "source": [
    "# Password Generator"
   ]
  },
  {
   "cell_type": "markdown",
   "id": "13d7d7ce",
   "metadata": {},
   "source": [
    "- Name: Suresh Shahi\n",
    "- Task 2: Password Generator\n",
    "- Linkdin Profile: https://www.linkedin.com/in/suresh-shahi-thakuri-0b689b28a/\n",
    "- GitHub Repository: https://github.com/Surexx7/CODSOFT"
   ]
  },
  {
   "cell_type": "code",
   "execution_count": 11,
   "id": "305bf2f0",
   "metadata": {},
   "outputs": [],
   "source": [
    "import random   #importing random module"
   ]
  },
  {
   "cell_type": "code",
   "execution_count": 12,
   "id": "a28fe1c7",
   "metadata": {},
   "outputs": [
    {
     "name": "stdout",
     "output_type": "stream",
     "text": [
      "****WELCOME TO RANDOM PASSWORD GENERATOR****\n"
     ]
    }
   ],
   "source": [
    "print(\"****WELCOME TO RANDOM PASSWORD GENERATOR****\")"
   ]
  },
  {
   "cell_type": "code",
   "execution_count": 13,
   "id": "f3f37ba8",
   "metadata": {},
   "outputs": [],
   "source": [
    "#defining all the letters, numbers and sumbols\n",
    "letters= [\"a\", \"b\", \"c\", \"d\", \"e\",\"f\", \"g\", \"h\",\"i\", \"j\", \"k\", \"l\", \"m\", \"n\", \"o\", \"p\", \"q\",\"r\",\n",
    "          \"s\",\"t\", \"u\", \"v\", \"w\", \"x\", \"y\", \"z\", \"A\", \"B\",'C','D','E','F','G','H','I',\n",
    "          'J','K','L','M','N','O',\n",
    "          'P','Q', 'R', 'S', 'T', 'U', 'V', 'W', 'X', 'Y', 'Z']\n",
    "numbers= ['0','1', '2', '3','4','5','6', '7', '8', '9']\n",
    "symbol=['!', '@', '#', '$', '%', '%', '^', '&', '*', '(', ')', '-', '_', '+']\n"
   ]
  },
  {
   "cell_type": "code",
   "execution_count": 15,
   "id": "fc7340ca",
   "metadata": {},
   "outputs": [
    {
     "name": "stdout",
     "output_type": "stream",
     "text": [
      "How many letters would you like in your password?\n",
      "7\n",
      "How many numbers would you like in your password?\n",
      "4\n",
      "How many symbol would you like in your password?\n",
      "3\n",
      "Your Random Password is:   Ih54S_6#FU+NS3\n"
     ]
    }
   ],
   "source": [
    "#asking users the desire condition for password\n",
    "n_letters=int(input(\"How many letters would you like in your password?\\n\"))\n",
    "n_numbers=int(input(\"How many numbers would you like in your password?\\n\"))\n",
    "n_symbol=int(input(\"How many symbol would you like in your password?\\n\"))\n",
    "password_list=[]\n",
    "\n",
    "for i in range(1, n_letters+1):\n",
    "   char =random.choice(letters)\n",
    "   password_list += char\n",
    "\n",
    "for i in range(1, n_numbers+1):\n",
    "    char =random.choice(numbers)\n",
    "    password_list += char\n",
    "\n",
    "for i in range(1, n_symbol+1):\n",
    "    char =random.choice(symbol)\n",
    "    password_list += char\n",
    "random.shuffle(password_list)\n",
    "password=\" \"\n",
    "for char in password_list:\n",
    "    password += char\n",
    "print(\"Your Random Password is: \",password)\n",
    "\n",
    "\n"
   ]
  }
 ],
 "metadata": {
  "kernelspec": {
   "display_name": "Python 3 (ipykernel)",
   "language": "python",
   "name": "python3"
  },
  "language_info": {
   "codemirror_mode": {
    "name": "ipython",
    "version": 3
   },
   "file_extension": ".py",
   "mimetype": "text/x-python",
   "name": "python",
   "nbconvert_exporter": "python",
   "pygments_lexer": "ipython3",
   "version": "3.11.5"
  }
 },
 "nbformat": 4,
 "nbformat_minor": 5
}
