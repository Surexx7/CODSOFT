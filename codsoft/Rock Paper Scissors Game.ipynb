{
 "cells": [
  {
   "cell_type": "markdown",
   "id": "59a56413",
   "metadata": {},
   "source": [
    "# Rock Paper Scissors Game"
   ]
  },
  {
   "cell_type": "markdown",
   "id": "60f4e921",
   "metadata": {},
   "source": [
    "- Name: Suresh Shahi\n",
    "- Task 3: Rock Paper Scisors Game\n",
    "- Linkdin Profile: https://www.linkedin.com/in/suresh-shahi-thakuri-0b689b28a/\n",
    "- GitHub Repository: https://github.com/Surexx7/CODSOFT"
   ]
  },
  {
   "cell_type": "code",
   "execution_count": 3,
   "id": "686fcd74",
   "metadata": {},
   "outputs": [
    {
     "name": "stdout",
     "output_type": "stream",
     "text": [
      "Press\n",
      "- 0 for ROCK '🪨'\n",
      "- 1 for PAPER '📃'\n",
      "- 2 for SCISSORS '✂️'\n",
      "Enter your Choice: 1\n",
      "You choose: 📃\n",
      "Computer choose: ✂️\n",
      "YOU WON...😢😢😢\n",
      "Do you waht to play again? (y/n): y\n",
      "Press\n",
      "- 0 for ROCK '🪨'\n",
      "- 1 for PAPER '📃'\n",
      "- 2 for SCISSORS '✂️'\n",
      "Enter your Choice: 2\n",
      "You choose: ✂️\n",
      "Computer choose: ✂️\n",
      "ITS DRAW...🫢😁\n",
      "Do you waht to play again? (y/n): n\n"
     ]
    }
   ],
   "source": [
    "#Rock wins against Scissors\n",
    "#Scissors wins against Papper\n",
    "#Papper wins against Rock\n",
    "\n",
    "import random\n",
    "\n",
    "rock=\"🪨\"\n",
    "paper=\"📃\"\n",
    "scissors=\"✂️\"\n",
    "gamesymbol=[rock,paper,scissors]\n",
    "\n",
    "while True:\n",
    "  user_choice=int(input(\"Press\\n- 0 for ROCK '🪨'\\n- 1 for PAPER '📃'\\n- 2 for SCISSORS '✂️'\\nEnter your Choice: \"))\n",
    "  #print(\"You choose:\",gamesymbol[user_choice])\n",
    "  if user_choice<0 or user_choice>2:\n",
    "    print(\"Invalid Input, You Loose..😢😢😢\")\n",
    "  else:\n",
    "     print(\"You choose:\", gamesymbol[user_choice])\n",
    "     list=[0,1,2]\n",
    "     computer_choice=random.choice(list)\n",
    "     print(\"Computer choose:\",gamesymbol[computer_choice])\n",
    "\n",
    "     if user_choice==0 and computer_choice==2:\n",
    "         print(\"YOU WON...🫡✊👏\")\n",
    "     elif user_choice==2 and computer_choice==0:\n",
    "         print(\"YOU LOOSE...😢😢😢\")\n",
    "     elif user_choice>computer_choice:\n",
    "         print(\"YOU WON...🫡✊👏\")\n",
    "     elif user_choice<computer_choice:\n",
    "         print(\"YOU WON...😢😢😢\")\n",
    "\n",
    "     elif user_choice==computer_choice:\n",
    "         print(\"ITS DRAW...🫢😁\")\n",
    "     play_again = input(\"Do you waht to play again? (y/n): \")\n",
    "     if play_again.lower() != \"y\":\n",
    "         break"
   ]
  }
 ],
 "metadata": {
  "kernelspec": {
   "display_name": "Python 3 (ipykernel)",
   "language": "python",
   "name": "python3"
  },
  "language_info": {
   "codemirror_mode": {
    "name": "ipython",
    "version": 3
   },
   "file_extension": ".py",
   "mimetype": "text/x-python",
   "name": "python",
   "nbconvert_exporter": "python",
   "pygments_lexer": "ipython3",
   "version": "3.11.5"
  }
 },
 "nbformat": 4,
 "nbformat_minor": 5
}
