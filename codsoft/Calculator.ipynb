{
 "cells": [
  {
   "cell_type": "markdown",
   "id": "6be5d9d2",
   "metadata": {},
   "source": [
    "# Calculator"
   ]
  },
  {
   "cell_type": "markdown",
   "id": "97f2c1a9",
   "metadata": {},
   "source": [
    "- Name: Suresh Shahi\n",
    "- Task 1: Calculator\n",
    "- Linkdin Profile: https://www.linkedin.com/in/suresh-shahi-thakuri-0b689b28a/\n",
    "- GitHub Repository: https://github.com/Surexx7/CODSOFT"
   ]
  },
  {
   "cell_type": "code",
   "execution_count": 1,
   "id": "06bd5844",
   "metadata": {},
   "outputs": [],
   "source": [
    "import os #importing os to clear the previous output from the screen"
   ]
  },
  {
   "cell_type": "code",
   "execution_count": 2,
   "id": "142289ac",
   "metadata": {},
   "outputs": [],
   "source": [
    "#defining function for four different operation\n",
    "\n",
    "def addition(a, b):\n",
    "    result = a + b\n",
    "    return result\n",
    "\n",
    "def multiplication(a, b):\n",
    "    result = a * b\n",
    "    return result\n",
    "\n",
    "def division(a, b):\n",
    "    result = a / b\n",
    "    return result\n",
    "\n",
    "def subtraction(a, b):\n",
    "    result = a - b\n",
    "    return result"
   ]
  },
  {
   "cell_type": "code",
   "execution_count": 3,
   "id": "0292de68",
   "metadata": {},
   "outputs": [
    {
     "name": "stdout",
     "output_type": "stream",
     "text": [
      "Enter first number: 5\n",
      "+\n",
      "-\n",
      "*\n",
      "/\n",
      "\n",
      "Pick an operation: +\n",
      "Enter next number: 5.5\n",
      "5.0 + 5.5 = 10.5\n",
      "Enter 'y' to continue calculation with 10.5 or 'n' to start a new calculation or 'x' to exit y\n",
      "Pick an operation: *\n",
      "Enter next number: 10\n",
      "10.5 * 10.0 = 105.0\n",
      "Enter 'y' to continue calculation with 105.0 or 'n' to start a new calculation or 'x' to exit n\n",
      "Enter first number: 100\n",
      "+\n",
      "-\n",
      "*\n",
      "/\n",
      "\n",
      "Pick an operation: /\n",
      "Enter next number: 10\n",
      "100.0 / 10.0 = 10.0\n",
      "Enter 'y' to continue calculation with 10.0 or 'n' to start a new calculation or 'x' to exit x\n",
      "Bye\n"
     ]
    }
   ],
   "source": [
    "def calculator():\n",
    "    num1 = float(input(\"Enter first number: \")) #asking first number from the user\n",
    "    print(\"+\\n-\\n*\\n/\\n\")\n",
    "\n",
    "    continue_program = True\n",
    "    while continue_program:\n",
    "        operator = input(\"Pick an operation: \") #asking the operation the user wants to perform\n",
    "        num2 = float(input(\"Enter next number: \")) #asking second number from the users\n",
    "\n",
    "        if operator == \"+\":\n",
    "            output = addition(num1, num2)\n",
    "            print(f\"{num1} + {num2} = {output}\")\n",
    "\n",
    "        elif operator == \"*\":\n",
    "            output = multiplication(num1, num2)\n",
    "            print(f\"{num1} * {num2} = {output}\")\n",
    "\n",
    "        elif operator == \"/\":\n",
    "            output = division(num1, num2)\n",
    "            print(f\"{num1} / {num2} = {output}\")\n",
    "\n",
    "        elif operator == \"-\":\n",
    "            output = subtraction(num1, num2)\n",
    "            print(f\"{num1} - {num2} = {output}\")\n",
    "\n",
    "        else:\n",
    "            print(\"Invalid operator\")\n",
    "\n",
    "        play_again = input(f\"Enter 'y' to continue calculation with {output} or 'n' to start a new calculation or 'x' to exit \").lower()\n",
    "        if play_again == 'y':\n",
    "            num1 = output\n",
    "\n",
    "        elif play_again == 'n':\n",
    "            continue_program = False\n",
    "            os.system('cls')\n",
    "            calculator()\n",
    "\n",
    "        else:\n",
    "            continue_program = False\n",
    "            print(\"Bye\")\n",
    "\n",
    "\n",
    "calculator() #calling function "
   ]
  }
 ],
 "metadata": {
  "kernelspec": {
   "display_name": "Python 3 (ipykernel)",
   "language": "python",
   "name": "python3"
  },
  "language_info": {
   "codemirror_mode": {
    "name": "ipython",
    "version": 3
   },
   "file_extension": ".py",
   "mimetype": "text/x-python",
   "name": "python",
   "nbconvert_exporter": "python",
   "pygments_lexer": "ipython3",
   "version": "3.11.5"
  }
 },
 "nbformat": 4,
 "nbformat_minor": 5
}
